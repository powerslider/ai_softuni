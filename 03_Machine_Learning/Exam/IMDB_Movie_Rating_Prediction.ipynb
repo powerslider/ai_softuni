{
 "cells": [
  {
   "cell_type": "code",
   "execution_count": 1,
   "metadata": {},
   "outputs": [],
   "source": [
    "%matplotlib inline"
   ]
  },
  {
   "cell_type": "code",
   "execution_count": 285,
   "metadata": {},
   "outputs": [],
   "source": [
    "import operator\n",
    "import numpy as np\n",
    "import pandas as pd\n",
    "import matplotlib.pyplot as plt\n",
    "import seaborn as sns\n",
    "from scipy.stats import pearsonr\n",
    "from sklearn.metrics import f1_score\n",
    "from sklearn.preprocessing import StandardScaler\n",
    "from sklearn.decomposition import PCA\n",
    "from sklearn.model_selection import train_test_split, GridSearchCV\n",
    "from sklearn.linear_model import LinearRegression\n",
    "from sklearn.ensemble import RandomForestRegressor, RandomForestClassifier\n",
    "from sklearn.linear_model import Ridge, LogisticRegression\n",
    "from sklearn.svm import SVR\n",
    "from sklearn.neighbors import KNeighborsRegressor"
   ]
  },
  {
   "cell_type": "markdown",
   "metadata": {},
   "source": [
    "# IMDB Movie Rating Prediction\n",
    "\n",
    "## Author: Tsvetan Dimitrov"
   ]
  },
  {
   "cell_type": "markdown",
   "metadata": {},
   "source": [
    "## Abstract\n",
    "\n",
    "The goal of this analysis is to determine if there are any correlations between features of movies from IMDB that can help predict their ratings. A dataset consisting of 5000 IMDB movies and related metadata will be used, cleaned and processed in different ways to extract different types of features, e.g. numeric, categorical, related, etc. Different machine learning regression algorithms will be applied and compared with baseline defaults and grid search optimized versions in order to determine if we can truly predict movie ratings based on this metadata."
   ]
  },
  {
   "cell_type": "markdown",
   "metadata": {},
   "source": [
    "## Data Cleanup\n",
    "\n",
    "Our first step is to read our dataset and apply some basic data cleaning. "
   ]
  },
  {
   "cell_type": "code",
   "execution_count": 103,
   "metadata": {},
   "outputs": [
    {
     "data": {
      "text/html": [
       "<div>\n",
       "<style scoped>\n",
       "    .dataframe tbody tr th:only-of-type {\n",
       "        vertical-align: middle;\n",
       "    }\n",
       "\n",
       "    .dataframe tbody tr th {\n",
       "        vertical-align: top;\n",
       "    }\n",
       "\n",
       "    .dataframe thead th {\n",
       "        text-align: right;\n",
       "    }\n",
       "</style>\n",
       "<table border=\"1\" class=\"dataframe\">\n",
       "  <thead>\n",
       "    <tr style=\"text-align: right;\">\n",
       "      <th></th>\n",
       "      <th>color</th>\n",
       "      <th>director_name</th>\n",
       "      <th>num_critic_for_reviews</th>\n",
       "      <th>duration</th>\n",
       "      <th>director_facebook_likes</th>\n",
       "      <th>actor_3_facebook_likes</th>\n",
       "      <th>actor_2_name</th>\n",
       "      <th>actor_1_facebook_likes</th>\n",
       "      <th>gross</th>\n",
       "      <th>genres</th>\n",
       "      <th>...</th>\n",
       "      <th>num_user_for_reviews</th>\n",
       "      <th>language</th>\n",
       "      <th>country</th>\n",
       "      <th>content_rating</th>\n",
       "      <th>budget</th>\n",
       "      <th>title_year</th>\n",
       "      <th>actor_2_facebook_likes</th>\n",
       "      <th>imdb_score</th>\n",
       "      <th>aspect_ratio</th>\n",
       "      <th>movie_facebook_likes</th>\n",
       "    </tr>\n",
       "  </thead>\n",
       "  <tbody>\n",
       "    <tr>\n",
       "      <th>0</th>\n",
       "      <td>Color</td>\n",
       "      <td>James Cameron</td>\n",
       "      <td>723.0</td>\n",
       "      <td>178.0</td>\n",
       "      <td>0.0</td>\n",
       "      <td>855.0</td>\n",
       "      <td>Joel David Moore</td>\n",
       "      <td>1000.0</td>\n",
       "      <td>760505847.0</td>\n",
       "      <td>Action|Adventure|Fantasy|Sci-Fi</td>\n",
       "      <td>...</td>\n",
       "      <td>3054.0</td>\n",
       "      <td>English</td>\n",
       "      <td>USA</td>\n",
       "      <td>PG-13</td>\n",
       "      <td>237000000.0</td>\n",
       "      <td>2009.0</td>\n",
       "      <td>936.0</td>\n",
       "      <td>7.9</td>\n",
       "      <td>1.78</td>\n",
       "      <td>33000</td>\n",
       "    </tr>\n",
       "    <tr>\n",
       "      <th>1</th>\n",
       "      <td>Color</td>\n",
       "      <td>Gore Verbinski</td>\n",
       "      <td>302.0</td>\n",
       "      <td>169.0</td>\n",
       "      <td>563.0</td>\n",
       "      <td>1000.0</td>\n",
       "      <td>Orlando Bloom</td>\n",
       "      <td>40000.0</td>\n",
       "      <td>309404152.0</td>\n",
       "      <td>Action|Adventure|Fantasy</td>\n",
       "      <td>...</td>\n",
       "      <td>1238.0</td>\n",
       "      <td>English</td>\n",
       "      <td>USA</td>\n",
       "      <td>PG-13</td>\n",
       "      <td>300000000.0</td>\n",
       "      <td>2007.0</td>\n",
       "      <td>5000.0</td>\n",
       "      <td>7.1</td>\n",
       "      <td>2.35</td>\n",
       "      <td>0</td>\n",
       "    </tr>\n",
       "    <tr>\n",
       "      <th>2</th>\n",
       "      <td>Color</td>\n",
       "      <td>Sam Mendes</td>\n",
       "      <td>602.0</td>\n",
       "      <td>148.0</td>\n",
       "      <td>0.0</td>\n",
       "      <td>161.0</td>\n",
       "      <td>Rory Kinnear</td>\n",
       "      <td>11000.0</td>\n",
       "      <td>200074175.0</td>\n",
       "      <td>Action|Adventure|Thriller</td>\n",
       "      <td>...</td>\n",
       "      <td>994.0</td>\n",
       "      <td>English</td>\n",
       "      <td>UK</td>\n",
       "      <td>PG-13</td>\n",
       "      <td>245000000.0</td>\n",
       "      <td>2015.0</td>\n",
       "      <td>393.0</td>\n",
       "      <td>6.8</td>\n",
       "      <td>2.35</td>\n",
       "      <td>85000</td>\n",
       "    </tr>\n",
       "    <tr>\n",
       "      <th>3</th>\n",
       "      <td>Color</td>\n",
       "      <td>Christopher Nolan</td>\n",
       "      <td>813.0</td>\n",
       "      <td>164.0</td>\n",
       "      <td>22000.0</td>\n",
       "      <td>23000.0</td>\n",
       "      <td>Christian Bale</td>\n",
       "      <td>27000.0</td>\n",
       "      <td>448130642.0</td>\n",
       "      <td>Action|Thriller</td>\n",
       "      <td>...</td>\n",
       "      <td>2701.0</td>\n",
       "      <td>English</td>\n",
       "      <td>USA</td>\n",
       "      <td>PG-13</td>\n",
       "      <td>250000000.0</td>\n",
       "      <td>2012.0</td>\n",
       "      <td>23000.0</td>\n",
       "      <td>8.5</td>\n",
       "      <td>2.35</td>\n",
       "      <td>164000</td>\n",
       "    </tr>\n",
       "    <tr>\n",
       "      <th>4</th>\n",
       "      <td>NaN</td>\n",
       "      <td>Doug Walker</td>\n",
       "      <td>NaN</td>\n",
       "      <td>NaN</td>\n",
       "      <td>131.0</td>\n",
       "      <td>NaN</td>\n",
       "      <td>Rob Walker</td>\n",
       "      <td>131.0</td>\n",
       "      <td>NaN</td>\n",
       "      <td>Documentary</td>\n",
       "      <td>...</td>\n",
       "      <td>NaN</td>\n",
       "      <td>NaN</td>\n",
       "      <td>NaN</td>\n",
       "      <td>NaN</td>\n",
       "      <td>NaN</td>\n",
       "      <td>NaN</td>\n",
       "      <td>12.0</td>\n",
       "      <td>7.1</td>\n",
       "      <td>NaN</td>\n",
       "      <td>0</td>\n",
       "    </tr>\n",
       "  </tbody>\n",
       "</table>\n",
       "<p>5 rows × 28 columns</p>\n",
       "</div>"
      ],
      "text/plain": [
       "   color      director_name  num_critic_for_reviews  duration  \\\n",
       "0  Color      James Cameron                   723.0     178.0   \n",
       "1  Color     Gore Verbinski                   302.0     169.0   \n",
       "2  Color         Sam Mendes                   602.0     148.0   \n",
       "3  Color  Christopher Nolan                   813.0     164.0   \n",
       "4    NaN        Doug Walker                     NaN       NaN   \n",
       "\n",
       "   director_facebook_likes  actor_3_facebook_likes      actor_2_name  \\\n",
       "0                      0.0                   855.0  Joel David Moore   \n",
       "1                    563.0                  1000.0     Orlando Bloom   \n",
       "2                      0.0                   161.0      Rory Kinnear   \n",
       "3                  22000.0                 23000.0    Christian Bale   \n",
       "4                    131.0                     NaN        Rob Walker   \n",
       "\n",
       "   actor_1_facebook_likes        gross                           genres  \\\n",
       "0                  1000.0  760505847.0  Action|Adventure|Fantasy|Sci-Fi   \n",
       "1                 40000.0  309404152.0         Action|Adventure|Fantasy   \n",
       "2                 11000.0  200074175.0        Action|Adventure|Thriller   \n",
       "3                 27000.0  448130642.0                  Action|Thriller   \n",
       "4                   131.0          NaN                      Documentary   \n",
       "\n",
       "          ...          num_user_for_reviews language  country  content_rating  \\\n",
       "0         ...                        3054.0  English      USA           PG-13   \n",
       "1         ...                        1238.0  English      USA           PG-13   \n",
       "2         ...                         994.0  English       UK           PG-13   \n",
       "3         ...                        2701.0  English      USA           PG-13   \n",
       "4         ...                           NaN      NaN      NaN             NaN   \n",
       "\n",
       "        budget  title_year actor_2_facebook_likes imdb_score  aspect_ratio  \\\n",
       "0  237000000.0      2009.0                  936.0        7.9          1.78   \n",
       "1  300000000.0      2007.0                 5000.0        7.1          2.35   \n",
       "2  245000000.0      2015.0                  393.0        6.8          2.35   \n",
       "3  250000000.0      2012.0                23000.0        8.5          2.35   \n",
       "4          NaN         NaN                   12.0        7.1           NaN   \n",
       "\n",
       "  movie_facebook_likes  \n",
       "0                33000  \n",
       "1                    0  \n",
       "2                85000  \n",
       "3               164000  \n",
       "4                    0  \n",
       "\n",
       "[5 rows x 28 columns]"
      ]
     },
     "execution_count": 103,
     "metadata": {},
     "output_type": "execute_result"
    }
   ],
   "source": [
    "movie_data = pd.read_csv('data/movie_metadata.csv')\n",
    "movie_data.head()"
   ]
  },
  {
   "cell_type": "markdown",
   "metadata": {},
   "source": [
    "Let us count how many empty observations do we have and drop them because they will skew our models."
   ]
  },
  {
   "cell_type": "code",
   "execution_count": 104,
   "metadata": {},
   "outputs": [
    {
     "data": {
      "text/plain": [
       "color                         19\n",
       "director_name                104\n",
       "num_critic_for_reviews        50\n",
       "duration                      15\n",
       "director_facebook_likes      104\n",
       "actor_3_facebook_likes        23\n",
       "actor_2_name                  13\n",
       "actor_1_facebook_likes         7\n",
       "gross                        884\n",
       "genres                         0\n",
       "actor_1_name                   7\n",
       "movie_title                    0\n",
       "num_voted_users                0\n",
       "cast_total_facebook_likes      0\n",
       "actor_3_name                  23\n",
       "facenumber_in_poster          13\n",
       "plot_keywords                153\n",
       "movie_imdb_link                0\n",
       "num_user_for_reviews          21\n",
       "language                      12\n",
       "country                        5\n",
       "content_rating               303\n",
       "budget                       492\n",
       "title_year                   108\n",
       "actor_2_facebook_likes        13\n",
       "imdb_score                     0\n",
       "aspect_ratio                 329\n",
       "movie_facebook_likes           0\n",
       "dtype: int64"
      ]
     },
     "execution_count": 104,
     "metadata": {},
     "output_type": "execute_result"
    }
   ],
   "source": [
    "def count_nan_values(dataset):\n",
    "    return dataset.apply(lambda x: sum(x.isnull()), axis=0)\n",
    "\n",
    "count_nan_values(movie_data)"
   ]
  },
  {
   "cell_type": "code",
   "execution_count": 105,
   "metadata": {},
   "outputs": [],
   "source": [
    "movie_data.dropna(how='any', inplace=True)"
   ]
  },
  {
   "cell_type": "markdown",
   "metadata": {},
   "source": [
    "Another good idea is to remove any duplicates that could lead to a stronger bias and hence overfitting."
   ]
  },
  {
   "cell_type": "code",
   "execution_count": 106,
   "metadata": {},
   "outputs": [
    {
     "name": "stdout",
     "output_type": "stream",
     "text": [
      "Duplicates count: 33\n"
     ]
    }
   ],
   "source": [
    "def count_duplicate_rows(dataset):\n",
    "    return len([i for i in dataset.duplicated() if i == True])\n",
    "\n",
    "print('Duplicates count:', count_duplicate_rows(movie_data))\n",
    "\n",
    "# Drop duplicate rows\n",
    "movie_data.drop_duplicates(inplace=True)"
   ]
  },
  {
   "cell_type": "markdown",
   "metadata": {},
   "source": [
    "Finally we can group features and labels. The features __'aspect_ratio'__ and __'movie_imdb_link'__ tell us nothing about is a movie good or not, so we will drop them. __'imdb_score'__ will contain our labels so we need to drop it from the feature set and set is as labels."
   ]
  },
  {
   "cell_type": "code",
   "execution_count": 349,
   "metadata": {},
   "outputs": [
    {
     "name": "stdout",
     "output_type": "stream",
     "text": [
      "Features shape (3723, 26)\n",
      "Labels shape (3723,)\n"
     ]
    }
   ],
   "source": [
    "movie_features = movie_data.drop(['imdb_score', 'aspect_ratio', 'movie_imdb_link'], axis=1)\n",
    "movie_labels = movie_data.imdb_score\n",
    "print('Features shape', movie_features.shape)\n",
    "print('Labels shape', movie_labels.shape)"
   ]
  },
  {
   "cell_type": "markdown",
   "metadata": {},
   "source": [
    "## Train and Evaluate Procedures\n",
    "In this section we will prepare some code that will be reused later. \n",
    "* `dataset_split` is a function performing a dataset train-test split in a 80-20 ratio. \n",
    "* `score_model` is a function applying and scoring the accuracy of already trained models on top of the test split.\n",
    "* `train_and_score_baseline_model` is a function that gathers training an algorithm with option defaults, applying the trained model and scoring it.\n",
    "* `train_and_score_tunned_model` is a function that gathers training an algorithm with grid search optimized best estimator from a set of possible parameter values, applying the trained model and scoring it."
   ]
  },
  {
   "cell_type": "code",
   "execution_count": 328,
   "metadata": {},
   "outputs": [],
   "source": [
    "def dataset_split(features, labels):   \n",
    "    features_train, features_test, labels_train, labels_test = train_test_split(\n",
    "        features,\n",
    "        labels,\n",
    "        test_size=0.2,\n",
    "        random_state=4\n",
    "    )\n",
    "    \n",
    "    return {\n",
    "        'train_features': features_train,\n",
    "        'test_features': features_test, \n",
    "        'train_labels': labels_train,\n",
    "        'test_labels': labels_test\n",
    "    }\n",
    "\n",
    "def score_model(dataset_split, model):\n",
    "    train_score = model.score(dataset_split['train_features'], dataset_split['train_labels'])\n",
    "    print('\\tTraining score: ', train_score)\n",
    "    \n",
    "    test_score = model.score(dataset_split['test_features'], dataset_split['test_labels'])\n",
    "    print('\\tTesting score: ', test_score)\n",
    "\n",
    "def train_and_score_baseline_model(dataset_split, algorithm):\n",
    "    print('Baseline Algorithm:')\n",
    "    model = algorithm()\n",
    "    model = model.fit(dataset_split['train_features'], dataset_split['train_labels'])\n",
    "    \n",
    "    score_model(dataset_split, model)\n",
    "\n",
    "def train_and_score_tunned_model(dataset_split, algorithm, tunned_params):\n",
    "    print('Tunned Algorithm:')\n",
    "    grid_search = GridSearchCV(algorithm(), tunned_params)\n",
    "    grid_search = grid_search.fit(dataset_split['train_features'], dataset_split['train_labels'])\n",
    "    \n",
    "    best_params = grid_search.best_params_\n",
    "    print('\\tBest parameters: ', best_params)\n",
    "    \n",
    "    best_estimator = grid_search.best_estimator_\n",
    "    print('\\tBest estimator: ', best_estimator)\n",
    "\n",
    "    score_model(dataset_split, best_estimator)"
   ]
  },
  {
   "cell_type": "markdown",
   "metadata": {},
   "source": [
    "## Feature Selection\n",
    "Now let us apply some basic criteria upon which to do feature selection. We will start by filtering numeric and categorical features."
   ]
  },
  {
   "cell_type": "code",
   "execution_count": 214,
   "metadata": {},
   "outputs": [
    {
     "name": "stdout",
     "output_type": "stream",
     "text": [
      "Numeric Features: ['num_critic_for_reviews', 'duration', 'director_facebook_likes', 'actor_3_facebook_likes', 'actor_1_facebook_likes', 'gross', 'num_voted_users', 'cast_total_facebook_likes', 'facenumber_in_poster', 'num_user_for_reviews', 'budget', 'actor_2_facebook_likes', 'movie_facebook_likes']\n",
      "Categorical Features:  ['color', 'director_name', 'actor_2_name', 'genres', 'actor_1_name', 'actor_3_name', 'language', 'country', 'content_rating', 'title_year']\n"
     ]
    }
   ],
   "source": [
    "numeric_features = movie_features._get_numeric_data()\n",
    "\n",
    "numeric_feature_names = numeric_features.columns.values.tolist()\n",
    "numeric_feature_names.remove('title_year')\n",
    "print('Numeric Features:', numeric_feature_names)\n",
    "\n",
    "text_feature_names = movie_features.columns.values.tolist()\n",
    "text_feature_names = [i for i in text_features if i not in numeric_feature_names]\n",
    "\n",
    "string_feature_names = ['movie_title', 'plot_keywords']\n",
    "\n",
    "categorical_feature_names = [i for i in text_feature_names if i not in string_feature_names] \n",
    "categorical_feature_names.append('title_year')\n",
    "print('Categorical Features: ', categorical_feature_names)"
   ]
  },
  {
   "cell_type": "markdown",
   "metadata": {},
   "source": [
    "### Numeric Features\n",
    "First let us start with the numeric features. We have to some normalization and will use standard scaler to keep as much variance as possible (compared to minmax). We need to preserve as much as possible before the next step which is applying PCA (Principal Component Analysis)."
   ]
  },
  {
   "cell_type": "code",
   "execution_count": 362,
   "metadata": {},
   "outputs": [],
   "source": [
    "scaler = StandardScaler()\n",
    "numeric_features = np.asarray(numeric_features)\n",
    "numeric_features_scaled = scaler.fit_transform(numeric_features)"
   ]
  },
  {
   "cell_type": "markdown",
   "metadata": {},
   "source": [
    "Principal component analysis (PCA) is a technique used to emphasize variation and bring out strong patterns in a dataset. It's often used to make data easy to explore and visualize. The __total variance__ is the sum of variances of all individual principal components. The fraction of __variance explained__ by a principal component is the ratio between the variance of that principal component and the total variance."
   ]
  },
  {
   "cell_type": "code",
   "execution_count": 363,
   "metadata": {},
   "outputs": [
    {
     "data": {
      "text/plain": [
       "Text(0,0.5,'Cumulative explained variance')"
      ]
     },
     "execution_count": 363,
     "metadata": {},
     "output_type": "execute_result"
    },
    {
     "data": {
      "image/png": "[encoded data removed]",
      "text/plain": [
       "<Figure size 432x288 with 1 Axes>"
      ]
     },
     "metadata": {},
     "output_type": "display_data"
    }
   ],
   "source": [
    "pca = PCA().fit(numeric_features_scaled)\n",
    "plt.plot(np.cumsum(pca.explained_variance_ratio_))\n",
    "plt.xlim(0,10,1)\n",
    "plt.xlabel('Number of components')\n",
    "plt.ylabel('Cumulative explained variance')"
   ]
  },
  {
   "cell_type": "code",
   "execution_count": 364,
   "metadata": {},
   "outputs": [
    {
     "data": {
      "text/plain": [
       "array([4.19873859e+00, 2.07488152e+00, 1.39110108e+00, 1.01916677e+00,\n",
       "       9.93363485e-01, 8.90189986e-01, 8.62361530e-01, 7.38409723e-01,\n",
       "       5.35890693e-01, 4.58607790e-01, 4.22780626e-01, 2.43361096e-01,\n",
       "       1.73152037e-01, 1.75649550e-03])"
      ]
     },
     "execution_count": 364,
     "metadata": {},
     "output_type": "execute_result"
    }
   ],
   "source": [
    "explained_variance = pca.explained_variance_\n",
    "explained_variance"
   ]
  },
  {
   "cell_type": "code",
   "execution_count": 354,
   "metadata": {},
   "outputs": [],
   "source": [
    "def plot_pca_explained_variance_ratio(explained_variance):\n",
    "    plt.figure(figsize=(6, 4))\n",
    "\n",
    "    plt.bar(range(len(explained_variance)), explained_variance, alpha=0.5, align='center',\n",
    "            label='individual explained variance')\n",
    "    plt.ylabel('Explained variance ratio')\n",
    "    plt.xlabel('Principal components')\n",
    "    plt.legend(loc='best')\n",
    "    plt.tight_layout()"
   ]
  },
  {
   "cell_type": "code",
   "execution_count": 355,
   "metadata": {},
   "outputs": [
    {
     "data": {
      "image/png": "[encoded data removed]",
      "text/plain": [
       "<Figure size 432x288 with 1 Axes>"
      ]
     },
     "metadata": {},
     "output_type": "display_data"
    }
   ],
   "source": [
    "plot_pca_explained_variance_ratio(explained_variance)"
   ]
  },
  {
   "cell_type": "code",
   "execution_count": 358,
   "metadata": {},
   "outputs": [],
   "source": [
    "def plot_pca_projections(scaled_features):\n",
    "    pca = PCA(n_components=5)\n",
    "    X_Train = pca.fit_transform(scaled_features)\n",
    "\n",
    "    sns.set(style='darkgrid')\n",
    "    f, ax = plt.subplots(figsize=(8, 8))\n",
    "    # ax.set_aspect('equal')\n",
    "    ax = sns.kdeplot(X_Train[:,0], X_Train[:,1], cmap=\"Greens\",\n",
    "              shade=True, shade_lowest=False)\n",
    "    ax = sns.kdeplot(X_Train[:,1], X_Train[:,2], cmap=\"Reds\",\n",
    "              shade=True, shade_lowest=False)\n",
    "    ax = sns.kdeplot(X_Train[:,2], X_Train[:,3], cmap=\"Blues\",\n",
    "              shade=True, shade_lowest=False)\n",
    "    red = sns.color_palette(\"Reds\")[-2]\n",
    "    blue = sns.color_palette(\"Blues\")[-2]\n",
    "    green = sns.color_palette(\"Greens\")[-2]\n",
    "    ax.text(0.5, 0.5, \"2nd and 3rd Projection\", size=12, color=blue)\n",
    "    ax.text(-4, 0.0, \"1st and 3rd Projection\", size=12, color=red)\n",
    "    ax.text(2, 0, \"1st and 2nd Projection\", size=12, color=green)\n",
    "    plt.xlim(-6, 5)\n",
    "    plt.ylim(-2, 2)"
   ]
  },
  {
   "cell_type": "code",
   "execution_count": 359,
   "metadata": {},
   "outputs": [
    {
     "data": {
      "image/png": "[encoded data removed]",
      "text/plain": [
       "<Figure size 576x576 with 1 Axes>"
      ]
     },
     "metadata": {},
     "output_type": "display_data"
    }
   ],
   "source": [
    "plot_pca_projections(numeric_features_scaled)"
   ]
  },
  {
   "cell_type": "markdown",
   "metadata": {},
   "source": [
    "### Training Models on Numeric Features"
   ]
  },
  {
   "cell_type": "code",
   "execution_count": 288,
   "metadata": {},
   "outputs": [],
   "source": [
    "numeric_dataset_split = dataset_split(numeric_features_scaled, movie_labels)"
   ]
  },
  {
   "cell_type": "code",
   "execution_count": 329,
   "metadata": {},
   "outputs": [
    {
     "name": "stdout",
     "output_type": "stream",
     "text": [
      "Baseline Algorithm:\n",
      "\tTraining score:  0.3637727468541343\n",
      "\tTesting score:  0.337312498931408\n",
      "Tunned Algorithm:\n",
      "\tBest parameters:  {'copy_X': True, 'fit_intercept': True, 'normalize': True}\n",
      "\tBest estimator:  LinearRegression(copy_X=True, fit_intercept=True, n_jobs=1, normalize=True)\n",
      "\tTraining score:  0.3637727468541343\n",
      "\tTesting score:  0.33731249893140824\n"
     ]
    }
   ],
   "source": [
    "train_and_score_baseline_model(\n",
    "    dataset_split=numeric_dataset_split,\n",
    "    algorithm=LinearRegression\n",
    ")\n",
    "\n",
    "parameters = {\n",
    "    'fit_intercept': [True, False], \n",
    "    'normalize': [True, False],\n",
    "    'copy_X': [True, False]\n",
    "}\n",
    "train_and_score_tunned_model(\n",
    "    dataset_split=numeric_dataset_split,\n",
    "    algorithm=LinearRegression,\n",
    "    tunned_params=parameters\n",
    ")"
   ]
  },
  {
   "cell_type": "code",
   "execution_count": 336,
   "metadata": {},
   "outputs": [
    {
     "name": "stdout",
     "output_type": "stream",
     "text": [
      "Baseline Algorithm:\n",
      "\tTraining score:  0.3636742701949733\n",
      "\tTesting score:  0.3367377252545096\n",
      "Tunned Algorithm:\n",
      "\tBest parameters:  {'alpha': 3.0, 'copy_X': True, 'fit_intercept': True, 'max_iter': 1000, 'normalize': False}\n",
      "\tBest estimator:  Ridge(alpha=3.0, copy_X=True, fit_intercept=True, max_iter=1000,\n",
      "   normalize=False, random_state=None, solver='auto', tol=0.001)\n",
      "\tTraining score:  0.3632556401026741\n",
      "\tTesting score:  0.33583138587020755\n"
     ]
    }
   ],
   "source": [
    "train_and_score_baseline_model(\n",
    "    dataset_split=numeric_dataset_split,\n",
    "    algorithm=Ridge\n",
    ")\n",
    "parameters = {\n",
    "    'alpha': [1.0, 3.0, 5.0], \n",
    "    'fit_intercept': [True, False],\n",
    "    'normalize': [True, False],\n",
    "    'copy_X': [True, False],\n",
    "    'max_iter': [1000, 5000, 10000],\n",
    "}\n",
    "train_and_score_tunned_model(\n",
    "    dataset_split=numeric_dataset_split,\n",
    "    algorithm=Ridge,\n",
    "    tunned_params=parameters\n",
    ")"
   ]
  },
  {
   "cell_type": "code",
   "execution_count": 305,
   "metadata": {},
   "outputs": [
    {
     "name": "stdout",
     "output_type": "stream",
     "text": [
      "Baseline Algorithm:\n",
      "\tTraining score:  0.9128296514960361\n",
      "\tTesting score:  0.5359678390749217\n"
     ]
    }
   ],
   "source": [
    "train_and_score_baseline_model(\n",
    "    dataset_split=numeric_dataset_split,\n",
    "    algorithm=RandomForestRegressor\n",
    ")\n",
    "\n",
    "#WARNING: Too slow\n",
    "#parameters = {\n",
    "#    'n_estimators': [5, 10, 100],\n",
    "#    'criterion': ['mse', 'mae'],\n",
    "#    'max_depth': [None, 100, 1000, 10000], \n",
    "#    'max_leaf_nodes': [None, 100, 1000, 10000]\n",
    "#}\n",
    "#train_and_score_tunned_model(\n",
    "#    dataset_split=numeric_dataset_split,\n",
    "#    algorithm=RandomForestRegressor,\n",
    "#    tunned_params=parameters\n",
    "#)"
   ]
  },
  {
   "cell_type": "code",
   "execution_count": 337,
   "metadata": {},
   "outputs": [
    {
     "name": "stdout",
     "output_type": "stream",
     "text": [
      "Baseline Algorithm:\n",
      "\tTraining score:  0.5372557045358297\n",
      "\tTesting score:  0.49644847790829827\n"
     ]
    }
   ],
   "source": [
    "train_and_score_baseline_model(\n",
    "    dataset_split=numeric_dataset_split,\n",
    "    algorithm=SVR\n",
    ")\n",
    "\n",
    "#WARNING: Too slow\n",
    "#parameters = {\n",
    "#    'kernel': ['rbf', 'linear', 'poly'],\n",
    "#    'poly': [3, 5, 7],\n",
    "#    'epsilon': [0.1, 0.01, 0.001]\n",
    "#}\n",
    "#train_and_score_tunned_model(\n",
    "#    dataset_split=numeric_dataset_split,\n",
    "#    algorithm=SVR,\n",
    "#    tunned_params=parameters\n",
    "#)"
   ]
  },
  {
   "cell_type": "code",
   "execution_count": 338,
   "metadata": {},
   "outputs": [
    {
     "name": "stdout",
     "output_type": "stream",
     "text": [
      "Baseline Algorithm:\n",
      "\tTraining score:  0.5695708441322973\n",
      "\tTesting score:  0.3450515499129927\n"
     ]
    }
   ],
   "source": [
    "train_and_score_baseline_model(\n",
    "    dataset_split=numeric_dataset_split,\n",
    "    algorithm=KNeighborsRegressor\n",
    ")\n",
    "\n",
    "#WARNING: Too slow\n",
    "#parameters = {\n",
    "#   'n_neighbors': [3, 5, 10],\n",
    "#   'weights': ['uniform', 'distance'],\n",
    "#   'leaf_size': [30, 10, 50],\n",
    "#   'p': [1, 2, 3]\n",
    "#}\n",
    "#train_and_score(\n",
    "#    dataset_split=numeric_dataset_split,\n",
    "#    algorithm=KNeighborsRegressor\n",
    "#)"
   ]
  },
  {
   "cell_type": "markdown",
   "metadata": {},
   "source": [
    "### Categorical Features\n",
    "Now let us deal with categorical features. First need to filter them out. We will generate dummy features based on available values and remove some inapropriate ones, e.g. NaN value, etc."
   ]
  },
  {
   "cell_type": "code",
   "execution_count": 246,
   "metadata": {},
   "outputs": [
    {
     "data": {
      "text/plain": [
       "['title_year_2012.0',\n",
       " 'title_year_2013.0',\n",
       " 'title_year_2014.0',\n",
       " 'title_year_2015.0',\n",
       " 'title_year_2016.0']"
      ]
     },
     "execution_count": 246,
     "metadata": {},
     "output_type": "execute_result"
    }
   ],
   "source": [
    "def get_categorical_feature_dummies(dataset, feature_names):\n",
    "    for feat in feature_names:\n",
    "        dataset = pd.concat([dataset, pd.get_dummies(dataset[feat], prefix=feat, dummy_na=True)], axis=1)\n",
    "    return dataset\n",
    "\n",
    "movie_feature_dummies = get_categorical_feature_dummies(movie_features, categorical_feature_names)\n",
    "movie_feature_dummies_names = movie_feature_dummies.columns.values.tolist()\n",
    "\n",
    "excluded_feature_names = numeric_feature_names + text_feature_names + ['title_year', 'title_year_nan', 'color_nan']\n",
    "\n",
    "categorical_dummies_names = [i for i in movie_feature_dummies_names if i not in excluded_feature_names]\n",
    "categorical_dummies_names[-5:]"
   ]
  },
  {
   "cell_type": "markdown",
   "metadata": {},
   "source": [
    "Next step will be to filter those features that have strong correlations. We will use Pearson's coefficient to achieve that. Then we will grab the first and last 10 sorted by the coefficient which will mean that they will intersect by symmetrical values below and above 0."
   ]
  },
  {
   "cell_type": "code",
   "execution_count": 360,
   "metadata": {},
   "outputs": [
    {
     "name": "stderr",
     "output_type": "stream",
     "text": [
      "/Users/ceco/.virtualenvs/ml/lib/python3.6/site-packages/scipy/stats/stats.py:3003: RuntimeWarning: invalid value encountered in double_scalars\n",
      "  r = r_num / r_den\n"
     ]
    },
    {
     "name": "stdout",
     "output_type": "stream",
     "text": [
      "Top 10 positively correlated features:  ['color_ Black and White', 'genres_Drama', 'genres_Crime|Drama', 'director_name_Christopher Nolan', 'genres_Drama|Romance', 'director_name_Steven Spielberg', 'director_name_Quentin Tarantino', 'director_name_Martin Scorsese', 'actor_1_name_Leonardo DiCaprio', 'actor_1_name_Tom Hanks']\n",
      "\n",
      "Top 10 negaitively correlated features:  ['actor_3_name_Fred Willard', 'actor_3_name_David Backus', 'actor_3_name_John Topor', 'actor_3_name_Karin Konoval', 'content_rating_PG', 'actor_3_name_Eva Marcille', \"actor_3_name_Lil' Wayne\", 'actor_3_name_Peter Wingfield', 'content_rating_PG-13', 'country_USA']\n"
     ]
    }
   ],
   "source": [
    "def calculate_pearson_coefficient(dataset, labels, feature_names):\n",
    "    correl = {}\n",
    "    for f in feature_names:\n",
    "        correl[f] = pearsonr(dataset[f], labels)\n",
    "    return sorted(correl.items(), key=operator.itemgetter(1), reverse=True)\n",
    "    \n",
    "all_coefficients = calculate_pearson_coefficient(movie_feature_dummies, movie_labels, categorical_dummies_names)\n",
    "top10_positively_corr_features = [i[0] for i in all_coefficients[0:10]]\n",
    "top10_negatively_corr_features = [i[0] for i in all_coefficients[-10:]]\n",
    "print('Top 10 positively correlated features: ', top10_positively_corr_features)\n",
    "print('')\n",
    "print('Top 10 negaitively correlated features: ', top10_negatively_corr_features)"
   ]
  },
  {
   "cell_type": "code",
   "execution_count": 275,
   "metadata": {},
   "outputs": [
    {
     "data": {
      "image/png": "[encoded data removed]",
      "text/plain": [
       "<Figure size 864x648 with 2 Axes>"
      ]
     },
     "metadata": {},
     "output_type": "display_data"
    }
   ],
   "source": [
    "def corrmap(dataset, feature_names, title):\n",
    "    #sns.set(context=\"paper\")\n",
    "    corrmat = dataset[feature_names].corr()\n",
    "    f, ax = plt.subplots(figsize=(12, 9))\n",
    "    plt.title(title)\n",
    "    sns.heatmap(corrmat, cmap=\"Blues\")\n",
    "    \n",
    "relevant_feature_names = top10_positively_corr_features + top10_negatively_corr_features\n",
    "    \n",
    "corrmap(\n",
    "    dataset=movie_feature_dummies, \n",
    "    feature_names=relevant_feature_names, \n",
    "    title=\"Correlation matrix for all relevant and independant predictors\"\n",
    ")"
   ]
  },
  {
   "cell_type": "code",
   "execution_count": 276,
   "metadata": {},
   "outputs": [],
   "source": [
    "relevant_features = movie_feature_dummies[relevant_feature_names]\n",
    "movie_feature_dummies_split = dataset_split(relevant_features, movie_labels)"
   ]
  },
  {
   "cell_type": "markdown",
   "metadata": {},
   "source": [
    "### Training Models on Categorical Features"
   ]
  },
  {
   "cell_type": "code",
   "execution_count": 339,
   "metadata": {},
   "outputs": [
    {
     "name": "stdout",
     "output_type": "stream",
     "text": [
      "Baseline Algorithm:\n",
      "\tTraining score:  0.1513853987131346\n",
      "\tTesting score:  0.09845978725178463\n",
      "Tunned Algorithm:\n",
      "\tBest parameters:  {'copy_X': True, 'fit_intercept': True, 'normalize': True}\n",
      "\tBest estimator:  LinearRegression(copy_X=True, fit_intercept=True, n_jobs=1, normalize=True)\n",
      "\tTraining score:  0.1513853987131346\n",
      "\tTesting score:  0.09845978725178482\n"
     ]
    }
   ],
   "source": [
    "train_and_score_baseline_model(\n",
    "    dataset_split=movie_feature_dummies_split,\n",
    "    algorithm=LinearRegression\n",
    ")\n",
    "\n",
    "parameters = {\n",
    "    'fit_intercept': [True, False], \n",
    "    'normalize': [True, False],\n",
    "    'copy_X': [True, False]\n",
    "}\n",
    "train_and_score_tunned_model(\n",
    "    dataset_split=movie_feature_dummies_split,\n",
    "    algorithm=LinearRegression,\n",
    "    tunned_params=parameters\n",
    ")"
   ]
  },
  {
   "cell_type": "code",
   "execution_count": 340,
   "metadata": {},
   "outputs": [
    {
     "name": "stdout",
     "output_type": "stream",
     "text": [
      "Baseline Algorithm:\n",
      "\tTraining score:  0.14398710579752616\n",
      "\tTesting score:  0.09915857828876407\n",
      "Tunned Algorithm:\n",
      "\tBest parameters:  {'alpha': 1.0, 'copy_X': True, 'fit_intercept': True, 'max_iter': 1000, 'normalize': False}\n",
      "\tBest estimator:  Ridge(alpha=1.0, copy_X=True, fit_intercept=True, max_iter=1000,\n",
      "   normalize=False, random_state=None, solver='auto', tol=0.001)\n",
      "\tTraining score:  0.14398710579752616\n",
      "\tTesting score:  0.09915857828876407\n"
     ]
    }
   ],
   "source": [
    "train_and_score_baseline_model(\n",
    "    dataset_split=movie_feature_dummies_split,\n",
    "    algorithm=Ridge\n",
    ")\n",
    "parameters = {\n",
    "    'alpha': [1.0, 3.0, 5.0], \n",
    "    'fit_intercept': [True, False],\n",
    "    'normalize': [True, False],\n",
    "    'copy_X': [True, False],\n",
    "    'max_iter': [1000, 5000, 10000],\n",
    "}\n",
    "train_and_score_tunned_model(\n",
    "    dataset_split=movie_feature_dummies_split,\n",
    "    algorithm=Ridge,\n",
    "    tunned_params=parameters\n",
    ")"
   ]
  },
  {
   "cell_type": "code",
   "execution_count": 343,
   "metadata": {},
   "outputs": [
    {
     "name": "stdout",
     "output_type": "stream",
     "text": [
      "Baseline Algorithm:\n",
      "\tTraining score:  0.15918667933103892\n",
      "\tTesting score:  0.09992633768600279\n"
     ]
    }
   ],
   "source": [
    "train_and_score_baseline_model(\n",
    "    dataset_split=movie_feature_dummies_split,\n",
    "    algorithm=RandomForestRegressor\n",
    ")\n",
    "\n",
    "#WARNING: Too slow\n",
    "#parameters = {\n",
    "#    'n_estimators': [5, 10, 100],\n",
    "#    'criterion': ['mse', 'mae'],\n",
    "#    'max_depth': [None, 100, 1000, 10000], \n",
    "#    'max_leaf_nodes': [None, 100, 1000, 10000]\n",
    "#}\n",
    "#train_and_score_tunned_model(\n",
    "#    dataset_split=movie_feature_dummies_split,\n",
    "#    algorithm=RandomForestRegressor,\n",
    "#    tunned_params=parameters\n",
    "#)"
   ]
  },
  {
   "cell_type": "code",
   "execution_count": 345,
   "metadata": {},
   "outputs": [
    {
     "name": "stdout",
     "output_type": "stream",
     "text": [
      "Baseline Algorithm:\n",
      "\tTraining score:  0.10022693390898607\n",
      "\tTesting score:  0.07559905533776066\n"
     ]
    }
   ],
   "source": [
    "train_and_score_baseline_model(\n",
    "    dataset_split=movie_feature_dummies_split,\n",
    "    algorithm=SVR\n",
    ")\n",
    "\n",
    "#WARNING: Too slow\n",
    "#parameters = {\n",
    "#    'kernel': ['rbf', 'linear', 'poly'],\n",
    "#    'poly': [3, 5, 7],\n",
    "#    'epsilon': [0.1, 0.01, 0.001]\n",
    "#}\n",
    "#train_and_score_tunned_model(\n",
    "#    dataset_split=movie_feature_dummies_split,\n",
    "#    algorithm=SVR,\n",
    "#    tunned_params=parameters\n",
    "#)"
   ]
  },
  {
   "cell_type": "code",
   "execution_count": 346,
   "metadata": {},
   "outputs": [
    {
     "name": "stdout",
     "output_type": "stream",
     "text": [
      "Baseline Algorithm:\n",
      "\tTraining score:  -0.22042398054130885\n",
      "\tTesting score:  -0.13614004818720704\n"
     ]
    }
   ],
   "source": [
    "train_and_score_baseline_model(\n",
    "    dataset_split=movie_feature_dummies_split,\n",
    "    algorithm=KNeighborsRegressor\n",
    ")\n",
    "\n",
    "#WARNING: Too slow\n",
    "#parameters = {\n",
    "#   'n_neighbors': [3, 5, 10],\n",
    "#   'weights': ['uniform', 'distance'],\n",
    "#   'leaf_size': [30, 10, 50],\n",
    "#   'p': [1, 2, 3]\n",
    "#}\n",
    "#train_and_score_tunned_model(\n",
    "#    dataset_split=movie_feature_dummies_split,\n",
    "#    algorithm=KNeighborsRegressor,\n",
    "#    tunned_params=parameters\n",
    "#)"
   ]
  },
  {
   "cell_type": "markdown",
   "metadata": {},
   "source": [
    "## Conclusion\n",
    "In this analysis we used a dataset containing 5000 popular movies from IMDB with related metadata and tried to cleanup and preprocess the data and model predictions about a certain movie's rating. The results were far from satisfying. First we filtered out all numerical features, normalized them and applied Linear Regreassion, Ridge Regression, Random Forests, Support Vector Machines and KNN models. The accuracy scores were ranging from 30 to 50 percent which does not give an accurate insight about a movie's rating. Categorical features performed even worse. We applied Pearson's coefficient to find correlating features and used them to feed again our 5 above mentioned models. The results were even worse - between 10 to 15 percent accuracy. Something to notice was that although each algorithm works very differently, we still got similar results. Grid search optimized versions (or at least those that were with presented results in this analysis) also got similar results. The conclusion could be that there is really no connection between the dataset's features and the movie's ratings, or at least one that could be statistically expressed."
   ]
  },
  {
   "cell_type": "markdown",
   "metadata": {},
   "source": [
    "### References\n",
    "[1] Pandas, \"Pandas Documentation\", https://pandas.pydata.org/pandas-docs/stable/\n",
    "\n",
    "[2] Seaborn, \"Seaborn Documentation\", https://seaborn.pydata.org/\n",
    "    \n",
    "[3] Sci-Kit Learn, \"Sci-Kit Learn Documentation\", http://scikit-learn.org/stable/documentation.html\n",
    "\n",
    "[4] Wikipedia, \"Pearson correlation coefficient\", https://en.wikipedia.org/wiki/Pearson_correlation_coefficient\n",
    "\n",
    "[5] PCA, \"Principal Component Analysis\", http://setosa.io/ev/principal-component-analysis/"
   ]
  }
 ],
 "metadata": {
  "kernelspec": {
   "display_name": "Python 3",
   "language": "python",
   "name": "python3"
  },
  "language_info": {
   "codemirror_mode": {
    "name": "ipython",
    "version": 3
   },
   "file_extension": ".py",
   "mimetype": "text/x-python",
   "name": "python",
   "nbconvert_exporter": "python",
   "pygments_lexer": "ipython3",
   "version": "3.6.4"
  }
 },
 "nbformat": 4,
 "nbformat_minor": 2
}
