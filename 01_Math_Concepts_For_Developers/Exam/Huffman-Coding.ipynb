{
 "cells": [
  {
   "cell_type": "code",
   "execution_count": 1,
   "metadata": {},
   "outputs": [],
   "source": [
    "%matplotlib inline"
   ]
  },
  {
   "cell_type": "code",
   "execution_count": 39,
   "metadata": {},
   "outputs": [],
   "source": [
    "import numpy as np\n",
    "import matplotlib.pyplot as plt\n",
    "import heapq\n",
    "import os\n",
    "from functools import total_ordering"
   ]
  },
  {
   "cell_type": "markdown",
   "metadata": {},
   "source": [
    "# Huffman Coding\n",
    "## Author: Tsvetan Dimitrov\n"
   ]
  },
  {
   "cell_type": "markdown",
   "metadata": {},
   "source": [
    "### Abstract\n",
    "TODO"
   ]
  },
  {
   "cell_type": "markdown",
   "metadata": {},
   "source": [
    "###  Lossy vs Lossless Compression\n",
    "In this section we will look at lossy vs lossless compression and the advantages and disadvantages of both methods. There is no right or wrong method. It all comes down to taking some notice of a number of different factors. \n",
    "\n",
    "#### Lossy Compression\n",
    "The first type is lossy compression which refers to some of the data from the original file being lost after compression is executed. The process is irreversible and once you convert to lossy, you cannot go back. And the more you compress it, the more degradation occurs. JPEG and GIF are both lossy image formats. One of the biggest obvious benefits to using lossy compression is that it results in a significantly reduced file size (smaller than lossless compression method), but it also means there is quality loss. Most tools, plugins, and software out there will let you choose the degree of compression you want to use.\n",
    "\n",
    "#### Lossless Compression\n",
    "The other type is lossless compression which refers to compression without any data or quality loss. All of original data can be recovered when the file is uncompressed. RAW, BMP, GIF, and PNG are all lossless image formats. The big benefit to lossless compression is that you can retain the original quality of your data or images and still achieve a smaller file size. This is generally the technique of choice for text or spreadsheet files, where losing words or financial data could pose a problem. In this article we will explore and implement a lossless technique called Huffman Coding. "
   ]
  },
  {
   "cell_type": "markdown",
   "metadata": {},
   "source": [
    "### Information Entropy\n",
    "In information theory, the major goal is for one person (a transmitter) to convey some message (over a channel) to another person (the receiver). To do so, the transmitter sends a series (possibly just one) partial messages that give clues towards the original message. The information content of one of these partial messages is a measure of how much uncertainty this resolves for the receiver. Let us try a simple experiment. We will assume that the weather is equally probable to be at any one of 4 possible states at any given moment. This translates to having the same probability of a state occurring which is 1/4 in our case.\n",
    "\n",
    "|             | Sunny | Cloudy | Rainy | Foggy |\n",
    "|-------------|-------|--------|-------|-------|\n",
    "| probability |  1/4  |  1/4   |  1/4  |  1/4  |\n",
    "\n",
    "Now the question is what is the minimal number of bits we can use to store each of these states based on their probability? Our probability can be expressed as follows: \n",
    "$$\\frac{1}{4} = \\frac{1}{2^2} = 2^{-2}$$\n",
    "\n",
    "$$\\text{minimum number of bits} = -\\log (p) = -\\log \\frac{1}{4} = 2$$\n",
    "So we can now add codes to our table for each weather state:\n",
    "\n",
    "|             | Sunny | Cloudy | Rainy | Foggy |\n",
    "|-------------|-------|--------|-------|-------|\n",
    "| probability |  1/4  |  1/4   |  1/4  |  1/4  |\n",
    "| code        |  00   |  01    |   10  |   11  |\n",
    "\n",
    "Each code has to uniquely identify the data that it is encoding, otherwise we will not be able to decode it correctly. Let us now try to change the probabilities and calculate their corresponding codes:\n",
    "\n",
    "|             | Sunny | Cloudy | Rainy | Foggy |\n",
    "|-------------|-------|--------|-------|-------|\n",
    "| probability |  1/2  |  1/4   |  1/8  |  1/8  |\n",
    "| code        |  0    |  10    |  110  |  111  |\n",
    "\n",
    "\n",
    "The fact that we can derive from our experiment is that the lower the probability value of a data source, the more information a message transfer event has to carry than a data source with a higher probability value. A partial message that cuts the number of possibilities in half transmits one bit of information about the message. In essence, the \"information content\" can be viewed as how much useful information the message actually contains. The entropy, in this context, is the expected number of bits of information contained in each message, taken over all possibilities for the transmitted message. In information theory entropy is denoted with $H$ and has the following definition:\n",
    "$$ H(X) = -p\\log (p)$$\n",
    "This gives us the weighted average of bits for the current partial message or state."
   ]
  },
  {
   "cell_type": "markdown",
   "metadata": {},
   "source": [
    "### Algorithm\n",
    "Huffman coding is a way to encode information using variable length strings to represent symbols depending on how frequently they appear. The idea is that symbols that are used more frequently should be shorter while symbols that appear more rarely can be longer. This way, the number of bits it takes to encode a given message will be shorter, on average, than if a fixed-length code was used. In messages that include many rare symbols, the string produced by variable-length encoding may be longer than one produced by a fixed-length encoding.\n",
    "\n"
   ]
  },
  {
   "cell_type": "code",
   "execution_count": 151,
   "metadata": {},
   "outputs": [],
   "source": [
    "@total_ordering\n",
    "class HeapNode:\n",
    "    def __init__(self, char, freq):\n",
    "        self.char = char\n",
    "        self.freq = freq\n",
    "        self.left = None\n",
    "        self.right = None\n",
    "    \n",
    "    def __lt__(self, other):\n",
    "        return self.freq < other.freq\n",
    "    \n",
    "    def __eq__(self, other):\n",
    "        if other == None:\n",
    "            return False\n",
    "        \n",
    "        if not isinstance(other, HeapNode):\n",
    "            return False\n",
    "        \n",
    "        return self.freq == other.freq"
   ]
  },
  {
   "cell_type": "code",
   "execution_count": 152,
   "metadata": {},
   "outputs": [],
   "source": [
    "class HuffmanTree:\n",
    "    def __init__(self, text):\n",
    "        self.text = text\n",
    "        self.heap = []\n",
    "        self.frequency_dict = {}\n",
    "        \n",
    "    def __make_frequency_dict(self):\n",
    "        for char in self.text:\n",
    "            if not char in self.frequency_dict:\n",
    "                self.frequency_dict[char] = 0\n",
    "            self.frequency_dict[char] += 1\n",
    "                \n",
    "    def __make_heap(self):\n",
    "        for key in self.frequency_dict:\n",
    "            node = HeapNode(key, self.frequency_dict[key])\n",
    "            heapq.heappush(self.heap, node)\n",
    "                    \n",
    "    def __merge_nodes(self):\n",
    "        while len(self.heap) > 1:\n",
    "            left_node = heapq.heappop(self.heap)\n",
    "            right_node = heapq.heappop(self.heap)\n",
    "\n",
    "            merged_node = HeapNode(None, left_node.freq + right_node.freq)\n",
    "            merged_node.left = left_node\n",
    "            merged_node.right = right_node\n",
    "\n",
    "            heapq.heappush(self.heap, merged_node)\n",
    "    \n",
    "    def construct_tree(self):\n",
    "        self.__make_frequency_dict()\n",
    "        self.__make_heap()\n",
    "        self.__merge_nodes()\n",
    "        return self.heap"
   ]
  },
  {
   "cell_type": "code",
   "execution_count": 153,
   "metadata": {},
   "outputs": [],
   "source": [
    "class HuffmanCodeMap:\n",
    "    def __init__(self, tree):\n",
    "        self.tree = tree\n",
    "        self.code_map = {}\n",
    "        self.reverse_code_map = {}\n",
    "    \n",
    "    def __make_codes(self, root, current_code):\n",
    "        if root == None:\n",
    "            return\n",
    "        if root.char != None:\n",
    "            self.code_map[root.char] = current_code\n",
    "            self.reverse_code_map[current_code] = root.char\n",
    "            return\n",
    "        self.__make_codes(root.left, f'{current_code}0')\n",
    "        self.__make_codes(root.right, f'{current_code}1')\n",
    "        \n",
    "    def construct_code_maps(self):\n",
    "        root = heapq.heappop(self.tree)\n",
    "        current_code = ''\n",
    "        \n",
    "        self.__make_codes(root, current_code)\n",
    "        return {\n",
    "            'code_map': self.code_map,\n",
    "            'reverse_code_map': self.reverse_code_map\n",
    "        }"
   ]
  },
  {
   "cell_type": "code",
   "execution_count": 158,
   "metadata": {},
   "outputs": [],
   "source": [
    "class HuffmanCoding:\n",
    "    def __init__(self, path):\n",
    "        self.path = path\n",
    "        self.code_map = {}\n",
    "        self.reverse_code_map = {}\n",
    "    \n",
    "    def __add_padding(self, encoded_text):\n",
    "        extra_padding = 8 - len(encoded_text) % 8\n",
    "        encoded_text += (extra_padding * '0')\n",
    "        \n",
    "        padded_info = f'{extra_padding:08b}'\n",
    "        return padded_info + encoded_text\n",
    "    \n",
    "    def __remove_padding(self, padded_encoded_text):\n",
    "        padded_info = padded_encoded_text[:8]\n",
    "        extra_padding = int(padded_info, 2)\n",
    "        \n",
    "        padded_encoded_text = padded_encoded_text[8:]\n",
    "        return padded_encoded_text[:-1 * extra_padding]\n",
    "    \n",
    "    def __to_bytes(self, padded_encoded_text):\n",
    "        text_len = len(padded_encoded_text)\n",
    "        \n",
    "        if text_len % 8 != 0:\n",
    "            print(\"Encoded text not padded properly\")\n",
    "            exit(0)\n",
    "            \n",
    "        b = bytearray()\n",
    "        for i in range(0, text_len, 8):\n",
    "            byte = padded_encoded_text[i:i + 8]\n",
    "            b.append(int(byte, 2))\n",
    "        return b\n",
    "    \n",
    "    def __encode_text(self, text):\n",
    "        encoded_text = ''\n",
    "        for char in text:\n",
    "            encoded_text += self.code_map[char]\n",
    "        return self.__add_padding(encoded_text)\n",
    "    \n",
    "    def __decode_text(self, encoded_text):\n",
    "        current_code = ''\n",
    "        decoded_text = ''\n",
    "        \n",
    "        for bit in encoded_text:\n",
    "            current_code += bit\n",
    "            if current_code in self.reverse_code_map:\n",
    "                char = self.reverse_code_map[current_code]\n",
    "                decoded_text += char\n",
    "                current_code = ''\n",
    "        \n",
    "        return decoded_text\n",
    "    \n",
    "    def compress(self):\n",
    "        file_name, _ = os.path.splitext(self.path)\n",
    "        output_path = f'{file_name}.bin'\n",
    "        \n",
    "        with open(self.path, 'r+') as input_file, open(output_path, 'wb') as output_file:\n",
    "            text = input_file.read().rstrip()\n",
    "            tree = HuffmanTree(text).construct_tree()\n",
    "            codes = HuffmanCodeMap(tree).construct_code_maps()\n",
    "            self.code_map = codes['code_map']\n",
    "            self.reverse_code_map = codes['reverse_code_map']\n",
    "            \n",
    "            encoded_text = self.__encode_text(text)\n",
    "            \n",
    "            b = self.__to_bytes(encoded_text)\n",
    "            \n",
    "            output_file.write(bytes(b))\n",
    "        \n",
    "        print(f\"File '{self.path}' is compressed as '{output_path}'\")\n",
    "        \n",
    "        return output_path\n",
    "    \n",
    "    def decompress(self, input_path):\n",
    "        file_name, _ = os.path.splitext(self.path)\n",
    "        output_path = f'{file_name}_decompressed.txt'\n",
    "        \n",
    "        with open(input_path, 'rb') as input_file, open(output_path, 'w') as output_file:\n",
    "            bit_string = ''\n",
    "            \n",
    "            byte = input_file.read(1)\n",
    "            while byte:\n",
    "                byte = ord(byte)\n",
    "                bits = bin(byte)[2:].rjust(8, '0')\n",
    "                bit_string += bits\n",
    "                byte = input_file.read(1)\n",
    "                \n",
    "            encoded_text = self.__remove_padding(bit_string)\n",
    "            decompressed_text = self.__decode_text(encoded_text)\n",
    "            \n",
    "            output_file.write(decompressed_text)\n",
    "            \n",
    "        print(f\"File '{input_path}' is decompressed as '{output_path}'\")\n",
    "        \n",
    "        return output_path\n",
    "\n",
    "            "
   ]
  },
  {
   "cell_type": "code",
   "execution_count": null,
   "metadata": {},
   "outputs": [],
   "source": [
    "path = 'sample.txt'\n",
    "h = HuffmanCoding(path)\n",
    "output_path = h.compress()\n",
    "h.decompress(output_path)"
   ]
  },
  {
   "cell_type": "markdown",
   "metadata": {},
   "source": [
    "### Conclusion"
   ]
  },
  {
   "cell_type": "markdown",
   "metadata": {},
   "source": [
    "### Future Work"
   ]
  },
  {
   "cell_type": "markdown",
   "metadata": {},
   "source": [
    "### References"
   ]
  }
 ],
 "metadata": {
  "kernelspec": {
   "display_name": "Python 3",
   "language": "python",
   "name": "python3"
  },
  "language_info": {
   "codemirror_mode": {
    "name": "ipython",
    "version": 3
   },
   "file_extension": ".py",
   "mimetype": "text/x-python",
   "name": "python",
   "nbconvert_exporter": "python",
   "pygments_lexer": "ipython3",
   "version": "3.6.4"
  }
 },
 "nbformat": 4,
 "nbformat_minor": 2
}
